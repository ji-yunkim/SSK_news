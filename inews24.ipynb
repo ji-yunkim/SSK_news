{
 "cells": [
  {
   "cell_type": "code",
   "execution_count": 23,
   "metadata": {
    "collapsed": true
   },
   "outputs": [],
   "source": [
    "import urllib.request\n",
    "from bs4 import BeautifulSoup\n",
    "import os\n",
    "import html\n",
    "import glob"
   ]
  },
  {
   "cell_type": "code",
   "execution_count": 24,
   "metadata": {},
   "outputs": [],
   "source": [
    "#-*- coding: utf-8 -*-\n",
    "output_path = \"urls.csv\"\n",
    "\n",
    "with open(output_path, 'r') as f:\n",
    "    url_lists_with_newline = f.readlines()\n",
    "\n",
    "urls_list = []\n",
    "urls_to_article = []\n",
    "dates = []\n",
    "reporters = []\n",
    "titles = []\n",
    "articles = []\n",
    "sitenames = []\n",
    "times=[]\n",
    "id = []\n",
    "for url_element_with_newline in url_lists_with_newline:\n",
    "    urls_list.append(url_element_with_newline.strip())\n",
    "    \n"
   ]
  },
  {
   "cell_type": "code",
   "execution_count": 25,
   "metadata": {
    "scrolled": true
   },
   "outputs": [],
   "source": [
    "numbering=1\n",
    "for url in urls_list:\n",
    "    url_without_http = \"\".join(url.split(\"http://\")[1:])#.split(\"/\")[0]\n",
    "    #raw_url = url_without_http.split(\"/\")[0]\n",
    "    #print (url_without_http)    \n",
    "    if \"inews24.com\" in url_without_http:\n",
    "        url = \"http://\" + url_without_http\n",
    "        \n",
    "        article_url = urllib.request.urlopen(url).read()\n",
    "        soup=BeautifulSoup(article_url, \"lxml\")\n",
    "\n",
    "        date = soup.find(\"div\", {\"class\":\"info\"}).text\n",
    "        \n",
    "       \n",
    "        title = soup.find(\"div\", {\"class\":\"title\"}).text\n",
    "        article = soup.find(\"div\", {\"itemprop\":\"articleBody\"}).text\n",
    "        reporter = soup.find('div',class_=\"news_content\").text.split(\"\\n\")[-6].split()[0]\n",
    "        \n",
    "        id.append(numbering)\n",
    "        dates.append(\"\".join(date.split(\"일\")[0])+\"일\")\n",
    "        times.append(\"\".join(date.split(\"일\")[1])+\"일\")\n",
    "        sitenames.append(\"아이뉴스24\")\n",
    "#####################################################       \n",
    "        reporters.append(reporter)\n",
    "        titles.append(title)\n",
    "        articles.append(article)\n",
    "        numbering += 1    \n",
    "        \n",
    "        \n",
    "  \n",
    "        "
   ]
  },
  {
   "cell_type": "code",
   "execution_count": 26,
   "metadata": {
    "collapsed": true
   },
   "outputs": [],
   "source": [
    "rows = zip(id, sitenames, dates, times, reporters, titles, articles)"
   ]
  },
  {
   "cell_type": "code",
   "execution_count": 27,
   "metadata": {},
   "outputs": [],
   "source": [
    "import codecs\n",
    "\n",
    "path = \"inews.tsv\"\n",
    "\n",
    "f = codecs.open(path,\"w\",\"UTF-8\")\n",
    "for row in rows:\n",
    "    f.write(\"\".join(str(s)+\"\\t\" for s in row)+ \"\\n\")"
   ]
  },
  {
   "cell_type": "code",
   "execution_count": 28,
   "metadata": {},
   "outputs": [
    {
     "name": "stdout",
     "output_type": "stream",
     "text": [
      "965\n",
      "965\n",
      "965\n",
      "965\n",
      "965\n",
      "965\n",
      "965\n"
     ]
    }
   ],
   "source": [
    "print (len(dates))\n",
    "print (len(id))\n",
    "print (len(times))\n",
    "print (len(reporters))\n",
    "print (len(titles))\n",
    "print (len(articles))\n",
    "print (len(sitenames))"
   ]
  },
  {
   "cell_type": "code",
   "execution_count": 29,
   "metadata": {
    "collapsed": true
   },
   "outputs": [],
   "source": [
    "f.close()"
   ]
  },
  {
   "cell_type": "code",
   "execution_count": null,
   "metadata": {
    "collapsed": true
   },
   "outputs": [],
   "source": []
  }
 ],
 "metadata": {
  "kernelspec": {
   "display_name": "Python 3",
   "language": "python",
   "name": "python3"
  },
  "language_info": {
   "codemirror_mode": {
    "name": "ipython",
    "version": 3
   },
   "file_extension": ".py",
   "mimetype": "text/x-python",
   "name": "python",
   "nbconvert_exporter": "python",
   "pygments_lexer": "ipython3",
   "version": "3.6.1"
  }
 },
 "nbformat": 4,
 "nbformat_minor": 2
}
