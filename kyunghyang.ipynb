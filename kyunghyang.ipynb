{
 "cells": [
  {
   "cell_type": "code",
   "execution_count": 32,
   "metadata": {
    "collapsed": false
   },
   "outputs": [],
   "source": [
    "# setting\n",
    "\n",
    "from selenium import webdriver\n",
    "from selenium.webdriver.common.keys import Keys\n",
    "from bs4 import BeautifulSoup\n",
    "\n",
    "import urllib.request\n",
    "import re\n",
    "import codecs\n",
    "import time\n",
    "import matplotlib.pyplot as plt\n",
    "import os\n",
    "import html\n",
    "import glob\n",
    "\n",
    "#-*- coding: utf-8 -*-\n",
    "output_path = \"urls.csv\"\n",
    "\n",
    "#with open(output_path, 'r') as f:\n",
    "#    url_lists_with_newline = f.readlines()\n",
    "\n",
    "f = codecs.open(output_path,\"r\",\"UTF-8\")\n",
    "url_lists_with_newline = f.readlines()\n",
    "\n",
    "urls_list = []\n",
    "urls_to_article = []\n",
    "dates = []\n",
    "reporters = []\n",
    "titles = []\n",
    "articles = []\n",
    "sitenames = []\n",
    "times=[]\n",
    "id = []\n",
    "\n",
    "for url_element_with_newline in url_lists_with_newline:\n",
    "    urls_list.append(url_element_with_newline.strip())\n",
    "\n",
    "driver = webdriver.Chrome('/Users/polar/Desktop/chromedriver')"
   ]
  },
  {
   "cell_type": "code",
   "execution_count": 33,
   "metadata": {
    "collapsed": false
   },
   "outputs": [],
   "source": [
    "numbering=1\n",
    "for url in urls_list:\n",
    "    url_without_http = \"\".join(url.split(\"http://\")[1:])\n",
    "    if \"news.khan.co.kr\" in url_without_http:\n",
    "        form = \"\"\n",
    "        title=\"-\"\n",
    "        content=\"-\"\n",
    "        dateraw=\"-\"\n",
    "        driver.get(link)\n",
    "\n",
    "        # 요소 추출\n",
    "        title = driver.find_element_by_tag_name(\"h1\")\n",
    "        author = driver.find_element_by_class_name(\"name\")\n",
    "        dateraw = driver.find_element_by_id(\"container\")\n",
    "        media = \"경향신문\"\n",
    "        body = driver.find_element_by_id(\"articleBody\")\n",
    "\n",
    "        # 후가공\n",
    "        title = title.text\n",
    "        body = body.text\n",
    "        author = author.text\n",
    "        author = author.split(\"기자\")[0]\n",
    "        dateraw = dateraw.find_element_by_tag_name(\"em\")\n",
    "        datetime = dateraw.text\n",
    "        date = datetime.split(\" \")[2]\n",
    "        time = datetime.split(\" \")[3]\n",
    "        date = date.replace(\".\",\"-\")\n",
    "\n",
    "        # list 담기\n",
    "        dates.append(date)\n",
    "        times.append(time)\n",
    "        reporters.append(reporters)\n",
    "        articles.append(body)\n",
    "        sitenames.append(media)\n",
    "        titles.append(title)\n",
    "        id.append(numbering)\n",
    "        \n",
    "        numbering = numbering+1\n",
    "\n",
    "print(numbering)"
   ]
  },
  {
   "cell_type": "code",
   "execution_count": 34,
   "metadata": {
    "collapsed": false
   },
   "outputs": [],
   "source": [
    "rows = zip(id, sitenames, dates, times, reporters, titles, articles)"
   ]
  },
  {
   "cell_type": "code",
   "execution_count": 35,
   "metadata": {
    "collapsed": false
   },
   "outputs": [],
   "source": [
    "path = \"khan.tsv\"\n",
    "\n",
    "f = codecs.open(path,\"w\",\"UTF-8\")\n",
    "for row in rows:\n",
    "    f.write(\"\".join(str(s)+\"\\t\" for s in row)+ \"\\n\")"
   ]
  },
  {
   "cell_type": "code",
   "execution_count": 36,
   "metadata": {
    "collapsed": true
   },
   "outputs": [],
   "source": [
    "f.close()"
   ]
  },
  {
   "cell_type": "code",
   "execution_count": null,
   "metadata": {
    "collapsed": true
   },
   "outputs": [],
   "source": []
  }
 ],
 "metadata": {
  "kernelspec": {
   "display_name": "Python 3",
   "language": "python",
   "name": "python3"
  },
  "language_info": {
   "codemirror_mode": {
    "name": "ipython",
    "version": 3
   },
   "file_extension": ".py",
   "mimetype": "text/x-python",
   "name": "python",
   "nbconvert_exporter": "python",
   "pygments_lexer": "ipython3",
   "version": "3.6.0"
  }
 },
 "nbformat": 4,
 "nbformat_minor": 2
}
