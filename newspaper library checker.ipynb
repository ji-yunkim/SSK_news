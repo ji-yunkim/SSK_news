{
 "cells": [
  {
   "cell_type": "code",
   "execution_count": 104,
   "metadata": {},
   "outputs": [],
   "source": [
    "# setting\n",
    "\n",
    "from bs4 import BeautifulSoup\n",
    "import urllib.request\n",
    "import codecs\n",
    "from newspaper import Article\n",
    "import re\n",
    "import os\n",
    "import html\n",
    "import glob\n",
    "import time\n",
    "\n",
    "#-*- coding: utf-8 -*-\n",
    "output_path = \"urls.csv\"\n",
    "\n",
    "f = codecs.open(output_path,\"r\",\"UTF-8\")\n",
    "url_lists_with_newline = f.readlines()\n",
    "\n",
    "urls_list = []\n",
    "for url_element_with_newline in url_lists_with_newline:\n",
    "    urls_list.append(url_element_with_newline.strip())\n"
   ]
  },
  {
   "cell_type": "code",
   "execution_count": 107,
   "metadata": {
    "scrolled": true
   },
   "outputs": [],
   "source": [
    "\n",
    "def gogo(website):\n",
    "    lst = []\n",
    "    for url in urls_list:\n",
    "        url = url.strip()\n",
    "        url_without_http = \"\".join(url.split(\"http://\")[1:])\n",
    "        print(url)\n",
    "        if website in url_without_http:\n",
    "            # newspaper library\n",
    "            article_url = urllib.request.urlopen(\"http://\"+url_without_http).read()\n",
    "            print(url)\n",
    "            content = Article(url, language='ko')\n",
    "            content.download()\n",
    "            content.parse()\n",
    "            time.sleep(1)\n",
    "\n",
    "            date = str(content.publish_date).split(\" \")[0]\n",
    "            try:\n",
    "                timetime = (str(content.publish_date).split(\" \")[1]).split(\"+\")[0]\n",
    "            except:\n",
    "                timetime=\"\"\n",
    "            authorlst = content.authors\n",
    "            authorline = \"\"\n",
    "\n",
    "            if len(authorlst) == 1:\n",
    "                authorline = authorlst[0]\n",
    "            else:\n",
    "                for a in authorlst:\n",
    "                    authorline = a+\",\"+authorline\n",
    "            body = content.text\n",
    "            title = content.title\n",
    "\n",
    "            if len(date)>0:\n",
    "                dateOX = \"O\"\n",
    "            else:\n",
    "                dateOX = \"X\"\n",
    "\n",
    "            if len(timetime)>0:\n",
    "                timeOX = \"O\"\n",
    "            else:\n",
    "                timeOX = \"X\"\n",
    "\n",
    "            if len(authorline)>0:\n",
    "                authorlineOX = \"O\"\n",
    "            else:\n",
    "                authorlineOX = \"X\"\n",
    "\n",
    "            if len(title)>0:\n",
    "                titleOX = \"O\"\n",
    "            else:\n",
    "                titleOX = \"X\"\n",
    "\n",
    "            if len(body)>0:\n",
    "                bodyOX = \"O\"\n",
    "            else:\n",
    "                bodyOX = \"X\"\n",
    "\n",
    "            sample = website+\"\\t\"+dateOX+\"\\t\"+timeOX+\"\\t\"+authorlineOX+\"\\t\"+titleOX+\"\\t\"+bodyOX\n",
    "\n",
    "            if sample in lst:\n",
    "                pass\n",
    "            else:\n",
    "                lst.append(sample)\n",
    "    return lst"
   ]
  },
  {
   "cell_type": "code",
   "execution_count": 108,
   "metadata": {},
   "outputs": [
    {
     "name": "stdout",
     "output_type": "stream",
     "text": [
      "﻿http://app.yonhapnews.co.kr/YNA/Basic/SNS/r.aspx?c=AKR20161123084900001&did=1195m\n",
      "﻿http://app.yonhapnews.co.kr/YNA/Basic/SNS/r.aspx?c=AKR20161123084900001&did=1195m\n",
      "You must `download()` an article first!\n"
     ]
    },
    {
     "ename": "ArticleException",
     "evalue": "",
     "output_type": "error",
     "traceback": [
      "\u001b[1;31m---------------------------------------------------------------------------\u001b[0m",
      "\u001b[1;31mArticleException\u001b[0m                          Traceback (most recent call last)",
      "\u001b[1;32m<ipython-input-108-fdcb74938e4a>\u001b[0m in \u001b[0;36m<module>\u001b[1;34m()\u001b[0m\n\u001b[1;32m----> 1\u001b[1;33m \u001b[0mprint\u001b[0m\u001b[1;33m(\u001b[0m\u001b[0mgogo\u001b[0m\u001b[1;33m(\u001b[0m\u001b[1;34m'app.yonhapnews.co.kr'\u001b[0m\u001b[1;33m)\u001b[0m\u001b[1;33m)\u001b[0m\u001b[1;33m\u001b[0m\u001b[0m\n\u001b[0m",
      "\u001b[1;32m<ipython-input-107-8bca7cc920cf>\u001b[0m in \u001b[0;36mgogo\u001b[1;34m(website)\u001b[0m\n\u001b[0;32m     12\u001b[0m             \u001b[0mcontent\u001b[0m \u001b[1;33m=\u001b[0m \u001b[0mArticle\u001b[0m\u001b[1;33m(\u001b[0m\u001b[0murl\u001b[0m\u001b[1;33m,\u001b[0m \u001b[0mlanguage\u001b[0m\u001b[1;33m=\u001b[0m\u001b[1;34m'ko'\u001b[0m\u001b[1;33m)\u001b[0m\u001b[1;33m\u001b[0m\u001b[0m\n\u001b[0;32m     13\u001b[0m             \u001b[0mcontent\u001b[0m\u001b[1;33m.\u001b[0m\u001b[0mdownload\u001b[0m\u001b[1;33m(\u001b[0m\u001b[1;33m)\u001b[0m\u001b[1;33m\u001b[0m\u001b[0m\n\u001b[1;32m---> 14\u001b[1;33m             \u001b[0mcontent\u001b[0m\u001b[1;33m.\u001b[0m\u001b[0mparse\u001b[0m\u001b[1;33m(\u001b[0m\u001b[1;33m)\u001b[0m\u001b[1;33m\u001b[0m\u001b[0m\n\u001b[0m\u001b[0;32m     15\u001b[0m             \u001b[0mtime\u001b[0m\u001b[1;33m.\u001b[0m\u001b[0msleep\u001b[0m\u001b[1;33m(\u001b[0m\u001b[1;36m1\u001b[0m\u001b[1;33m)\u001b[0m\u001b[1;33m\u001b[0m\u001b[0m\n\u001b[0;32m     16\u001b[0m \u001b[1;33m\u001b[0m\u001b[0m\n",
      "\u001b[1;32mC:\\Users\\user\\Anaconda3\\lib\\site-packages\\newspaper\\article.py\u001b[0m in \u001b[0;36mparse\u001b[1;34m(self)\u001b[0m\n\u001b[0;32m    183\u001b[0m \u001b[1;33m\u001b[0m\u001b[0m\n\u001b[0;32m    184\u001b[0m     \u001b[1;32mdef\u001b[0m \u001b[0mparse\u001b[0m\u001b[1;33m(\u001b[0m\u001b[0mself\u001b[0m\u001b[1;33m)\u001b[0m\u001b[1;33m:\u001b[0m\u001b[1;33m\u001b[0m\u001b[0m\n\u001b[1;32m--> 185\u001b[1;33m         \u001b[0mself\u001b[0m\u001b[1;33m.\u001b[0m\u001b[0mthrow_if_not_downloaded_verbose\u001b[0m\u001b[1;33m(\u001b[0m\u001b[1;33m)\u001b[0m\u001b[1;33m\u001b[0m\u001b[0m\n\u001b[0m\u001b[0;32m    186\u001b[0m \u001b[1;33m\u001b[0m\u001b[0m\n\u001b[0;32m    187\u001b[0m         \u001b[0mself\u001b[0m\u001b[1;33m.\u001b[0m\u001b[0mdoc\u001b[0m \u001b[1;33m=\u001b[0m \u001b[0mself\u001b[0m\u001b[1;33m.\u001b[0m\u001b[0mconfig\u001b[0m\u001b[1;33m.\u001b[0m\u001b[0mget_parser\u001b[0m\u001b[1;33m(\u001b[0m\u001b[1;33m)\u001b[0m\u001b[1;33m.\u001b[0m\u001b[0mfromstring\u001b[0m\u001b[1;33m(\u001b[0m\u001b[0mself\u001b[0m\u001b[1;33m.\u001b[0m\u001b[0mhtml\u001b[0m\u001b[1;33m)\u001b[0m\u001b[1;33m\u001b[0m\u001b[0m\n",
      "\u001b[1;32mC:\\Users\\user\\Anaconda3\\lib\\site-packages\\newspaper\\article.py\u001b[0m in \u001b[0;36mthrow_if_not_downloaded_verbose\u001b[1;34m(self)\u001b[0m\n\u001b[0;32m    519\u001b[0m         \u001b[1;32mif\u001b[0m \u001b[0mself\u001b[0m\u001b[1;33m.\u001b[0m\u001b[0mdownload_state\u001b[0m \u001b[1;33m==\u001b[0m \u001b[0mArticleDownloadState\u001b[0m\u001b[1;33m.\u001b[0m\u001b[0mNOT_STARTED\u001b[0m\u001b[1;33m:\u001b[0m\u001b[1;33m\u001b[0m\u001b[0m\n\u001b[0;32m    520\u001b[0m             \u001b[0mprint\u001b[0m\u001b[1;33m(\u001b[0m\u001b[1;34m'You must `download()` an article first!'\u001b[0m\u001b[1;33m)\u001b[0m\u001b[1;33m\u001b[0m\u001b[0m\n\u001b[1;32m--> 521\u001b[1;33m             \u001b[1;32mraise\u001b[0m \u001b[0mArticleException\u001b[0m\u001b[1;33m(\u001b[0m\u001b[1;33m)\u001b[0m\u001b[1;33m\u001b[0m\u001b[0m\n\u001b[0m\u001b[0;32m    522\u001b[0m         \u001b[1;32melif\u001b[0m \u001b[0mself\u001b[0m\u001b[1;33m.\u001b[0m\u001b[0mdownload_state\u001b[0m \u001b[1;33m==\u001b[0m \u001b[0mArticleDownloadState\u001b[0m\u001b[1;33m.\u001b[0m\u001b[0mFAILED_RESPONSE\u001b[0m\u001b[1;33m:\u001b[0m\u001b[1;33m\u001b[0m\u001b[0m\n\u001b[0;32m    523\u001b[0m             print('Article `download()` failed with %s on URL %s' %\n",
      "\u001b[1;31mArticleException\u001b[0m: "
     ]
    }
   ],
   "source": [
    "print(gogo('app.yonhapnews.co.kr'))"
   ]
  },
  {
   "cell_type": "code",
   "execution_count": 46,
   "metadata": {},
   "outputs": [
    {
     "name": "stdout",
     "output_type": "stream",
     "text": [
      "['app.yonhapnews.co.kr', 'news1.kr', 'www.newsis.com', 'www.ytn.co.kr', 'www.edaily.co.kr', 'news.heraldcorp.com', 'view.asiae.co.kr', 'www.nocutnews.co.kr', 'news.mk.co.kr', 'www.sedaily.com', 'news.sbs.co.kr', 'news.kbs.co.kr', 'www.mt.co.kr', 'mbn.mk.co.kr', 'www.asiatoday.co.kr', 'news.khan.co.kr', 'www.vop.co.kr', 'www.hankyung.com', 'www.ajunews.com', 'www.segye.com', 'www.yonhapnewstv.co.kr', 'www.seoul.co.kr', 'www.fnnews.com', 'news.donga.com', 'news.joins.com', 'www.hani.co.kr', 'news.kmib.co.kr', 'www.ggilbo.com', 'www.hankookilbo.com', 'www.kookje.co.kr', 'www.etoday.co.kr', 'www.ohmynews.com', 'www.polinews.co.kr', 'www.tbs.seoul.kr', 'news20.busan.com', 'www.viva100.com', 'www.newspim.com', 'news.tvchosun.com', 'www.moneyweek.co.kr', 'www.viewsnnews.com', 'www.newscj.com', 'sports.khan.co.kr', 'www.kyeongin.com', 'www.wowtv.co.kr', 'imnews.imbc.com', 'news.naver.com', 'www.mediapen.com', 'www.gukjenews.com', 'www.munhwa.com', 'news.jtbc.co.kr', 'www.kukinews.com', 'www.mbn.co.kr', 'www.joongboo.com', 'www.inews24.com', 'www.breaknews.com', 'www.newdaily.co.kr', 'www.g-enews.com', 'www.enewstoday.co.kr', 'www.anewsa.com', 'news.bbsi.co.kr', 'www.etnews.com', 'www.shinailbo.co.kr', 'www.starseoultv.com', 'news.tf.co.kr', 'daily.hankooki.com', 'www.newstomato.com', 'www.joongdo.co.kr', 'www.kyeonggi.com', 'www.sisafocus.co.kr', 'www.imaeil.com', 'www.dt.co.kr', 'www.obsnews.co.kr', 'www.dailian.co.kr', 'www.yeongnam.com', 'www.ekn.kr', 'news.ichannela.com', 'www.pressian.com', 'ilyo.co.kr', 'www.newsway.co.kr', 'news.mtn.co.kr', 'www.sisaweek.com', 'www.speconomy.com', 'www.m-i.kr', 'www.mediatoday.co.kr', 'www.huffingtonpost.kr', 'www.ilyoseoul.co.kr', 'www.kgnews.co.kr', 'www.metroseoul.co.kr', 'www.joseilbo.com', 'www.weeklytoday.com', 'www.pbc.co.kr', 'www.naeil.com', 'www.hg-times.com', 'sbscnbc.sbs.co.kr', 'www.lawissue.co.kr', 'www.siminilbo.co.kr', 'www.cnbnews.com', 'www.ccdailynews.com', 'www.kns.tv', 'www.daejonilbo.com', 'www.cctoday.co.kr', 'www.kwangju.co.kr', 'www.kado.net', 'biz.chosun.com', 'www.ilyosisa.co.kr', 'www.cstimes.com', 'www.kihoilbo.co.kr', 'tvdaily.asiae.co.kr', 'www.mediaus.co.kr', 'sports.donga.com', 'www.ytnradio.kr', 'www.gwangnam.co.kr', 'www.iusm.co.kr', 'www.koreadaily.com', 'www.jnilbo.com', 'www.businesspost.co.kr', 'www.jjan.kr', 'www.sporbiz.co.kr', 'www.chungnamilbo.com', 'www.sisaon.co.kr', 'www.idaegu.co.kr', 'www.newstown.co.kr', 'www.ksilbo.co.kr', 'www.wikitree.co.kr', 'www.gobalnews.com', 'enter.etoday.co.kr', 'www.womennews.co.kr', 'www.munhwanews.com', 'www.mhj21.com', 'www.kbmaeil.com', 'www.newsen.com', 'www.sportsseoul.com', 'www.inews365.com', 'www.kwnews.co.kr', 'www.idomin.com', 'www.domin.co.kr', 'www.incheonilbo.com', 'stoo.asiae.co.kr', 'www.ihalla.com', 'www.ebn.co.kr', 'www.visualdive.com', 'www.knnews.co.kr', 'www.kyongbuk.co.kr', 'www.xportsnews.com', 'www.jemin.com', 'www.jbnews.com', 'www.idaegu.com', 'news.einfomax.co.kr', 'www.honam.co.kr', 'www.redian.org', 'star.mbn.co.kr', 'www.ujnews.co.kr', 'www.radiokorea.com', 'www.lawtimes.co.kr', 'www.gokorea.kr', 'star.mt.co.kr', 'sports.chosun.com', 'www.newsprime.co.kr', 'facttv.kr', 'www.labortoday.co.kr', 'www.kjdaily.com', 'www.sisunnews.co.kr', 'www.gnnews.co.kr', 'www.goodmorningcc.com', 'www.rpm9.com', 'www.dtnews24.com', 'www.mediawatch.kr', 'www.hidomin.com', 'www.gnmaeil.com', 'www.sisapress.com', 'www.m-economynews.com', 'www.dynews.co.kr', 'www.nspna.com', 'www.sportsq.co.kr', 'www.tongilnews.com', 'www.topstarnews.net', 'www.sjbnews.com', 'www.headlinejeju.co.kr', 'www.voakorea.com', 'news.ebs.co.kr', 'sports.hankooki.com', 'www.jeollailbo.com', 'www.tvreport.co.kr', 'www.gjdream.com', 'www.mydaily.co.kr', 'www.jeonmin.co.kr', 'www.journalist.or.kr', 'biz.heraldcorp.com', 'www.jejuilbo.net', 'www.cnews.co.kr', 'www.sportsworldi.com', 'www.seoulfn.com', 'www.econovill.com', 'www.econotalking.kr', 'sunday.joins.com', 'www.jejunews.com', 'www.dgmbc.com', 'www.tenasia.co.kr', 'isplus.live.joins.com', 'www.jejusori.net', 'www.fntimes.com', 'www.greenpostkorea.co.kr', 'www.koreatimes.com', 'weekly.khan.co.kr', 'h21.hani.co.kr', 'www.daejeontoday.com', 'www.upkorea.net', 'www.sisajeju.com', 'www.osen.co.kr', 'www.christiantoday.co.kr', 'www.ccdn.co.kr', 'www.ksmnews.co.kr', 'pub.chosun.com', 'weeklytrade.co.kr', 'starin.edaily.co.kr', 'www.whitepaper.co.kr', 'news.knn.co.kr', 'www.knn.co.kr', 'news.unn.net', 'tjmbc.co.kr', 'www.siminsori.com', 'www.the-pr.co.kr', 'www.futurekorea.co.kr', 'ikbc.co.kr', 'www.ktv.go.kr', 'star.mk.co.kr', 'star.spotvnews.co.kr', 'koreajoongangdaily.joins.com', 'www.bulkyo21.com', 'www.choicenews.co.kr', 'weekly.donga.com', 'www.bizenter.co.kr', 'www.kjmbc.co.kr', 'www.ddanzi.com', 'www.gndomin.com', 'www.sisain.co.kr', 'www.newshankuk.com', 'www.lec.co.kr', 'joynews.inews24.com', 'www.newscham.net', 'stock.hankyung.com', 'www.tfnews.co.kr', 'www.koreatimes.co.kr', 'www.intn.co.kr', 'premium.mk.co.kr', 'medipana.com', 'www.newsmin.co.kr', 'www.gocj.net', 'www.bithub.co.kr', 'www.docdocdoc.co.kr', 'newstapa.org', 'kor.theasian.asia', 'biz.newdaily.co.kr', 'www.pdjournal.com', 'www.gwnews.org', 'www.ddaily.co.kr', 'www.dailypharm.com', 'www.cpbc.co.kr', 'andongmbc.co.kr', 'www.korea.kr', 'ppss.kr', 'www.stardailynews.co.kr', 'www.naon.go.kr', 'www.jejudomin.co.kr', 'shindonga.donga.com', 'mbnmoney.mbn.co.kr', 'jmagazine.joins.com', 'www.e2news.com', 'www.thebell.co.kr', 'www.bizwatch.co.kr', 'www.tjb.co.kr', 'www.konas.net', 'www.taxtimes.co.kr', 'www.rapportian.com', 'factoll.com', 'chicnews.mk.co.kr', 'www.zdnet.co.kr', 'www.tbc.co.kr', 'www.betanews.net:8080', 'www.medicaltimes.com', 'www.beopbo.com', 'www.dailymedi.com', 'www.thescoop.co.kr', 'h2.khan.co.kr', 'www.smedaily.co.kr', 'www.sisainlive.com', 'www.ilemonde.com', 'www.ibulgyo.com', 'enews24.tving.com', 'www.ikpnews.net', 'www.bzeronews.com', 'www.nextdaily.co.kr', 'weekly.cnbnews.com', 'news.kukinews.com', 'www.hyunbulnews.com', 'www.hkbs.co.kr', 'www.greendaily.co.kr', 'slownews.kr', 'g1tv.co.kr', 'www.dongponews.net', 'www.electimes.com', 'www.acrofan.com', 'kookbang.dema.mil.kr', 'www.nongmin.com', 'www.newsculture.tv', 'www.mygoyang.com', 'www.dhnews.co.kr', 'www.catholictimes.org', 'www.ibabynews.com', 'www.btnnews.tv', 'sbsfune.sbs.co.kr', 'www.finomy.com', 'enews.imbc.com', 'www.veritas-a.com', 'www.suwon.com', 'www.readersnews.com', 'www.kyosu.net', 'www.itnk.co.kr', 'www.dailygame.co.kr', 'betanews.heraldcorp.com:8080', 'www.pckworld.com', 'www.doctorsnews.co.kr', 'starn.hankyung.com', 'news.koreanbar.or.kr', 'www.snmnews.com', 'www.kbanker.co.kr', 'www.ittoday.co.kr', 'www.datanews.co.kr', 'enews24.interest.me', 'www.bosa.co.kr', 'www.newsmaker.or.kr', 'www.monews.co.kr', 'www.kpanews.co.kr', 'www.dailynk.com', 'www.cine21.com', 'nownews.seoul.co.kr', 'en.seoul.co.kr', 'ch.yes24.com', 'www.spotvnews.co.kr', 'www.palnews.co.kr', 'www.koreaherald.com', 'www.ikld.kr', 'www.gimhaenews.co.kr', 'techm.kr', 'bntnews.hankyung.com', 'www.mediafine.co.kr', 'www.engdaily.com', 'www.cmbdj.co.kr', 'mediawatch.kr', 'it.chosun.com', 'edu.donga.com', 'www.yakup.com', 'www.mdtoday.co.kr', 'www.koreaittimes.com', 'www.investchosun.com', 'www.g1tv.co.kr', 'www.dongascience.com', 'www.cctvnews.co.kr', 'www.bloter.net', 'web.newsis.com', 'kizmom.hankyung.com', 'dailymedi.com', '2korea.hani.co.kr', 'www.welfarenews.net', 'www.unityinfo.co.kr', 'www.boannews.com', 'www.ablenews.co.kr', 'platum.kr', 'okfashion.co.kr', 'news.bookdb.co.kr', 'kids.hankooki.com', 'ize.co.kr', 'gamefocus.co.kr', 'economyplus.chosun.com', 'www.ytnscience.co.kr', 'www.thisisgame.com', 'www.rwn.co.kr', 'www.kidd.co.kr', 'www.entermedia.co.kr', 'www.dispatch.co.kr', 'www.datanet.co.kr', 'wstarnews.hankyung.com', 'news.kbiz.or.kr', 'fpn119.co.kr', 'www.outdoornews.co.kr', 'www.mjmedi.com', 'www.ildaro.com', 'www.gasnews.com', 'www.fomos.kr', 'www.consumernews.co.kr', 'www.agrinet.co.kr', 'economychosun.com', 'blog.newstapa.org', 'www.yonhapmidas.com', 'www.todayenergy.kr', 'www.seouland.com', 'www.maniareport.com', 'www.ktnews.com', 'www.kormedi.com', 'www.jobnjoy.com', 'www.hangyo.com', 'www.gamemeca.com', 'www.famtimes.co.kr', 'www.dailygrid.net', 'www.brainmedia.co.kr', 'woman.chosun.com', 'uberin.mk.co.kr', 'sports.mk.co.kr', 'maxim.wowtv.co.kr', 'kr.aving.net', 'hellodd.com', 'www1.president.go.kr', 'www.newsfarm.co.kr', 'www.medical-tribune.co.kr', 'www.ksg.co.kr', 'www.klnews.co.kr', 'www.itworld.co.kr', 'www.itdaily.kr', 'www.inven.co.kr', 'www.insnews.co.kr', 'www.ilovepc.co.kr', 'www.footballjournal.co.kr', 'www.ecomedia.co.kr', 'www.dailyvet.co.kr', 'www.dailysecu.com', 'www.cowalknews.co.kr', 'www.constimes.co.kr', 'www.betanews.net', 'www.besteleven.com', 'www.allurekorea.com', 'www.aflnews.co.kr', 'thestory.chosun.com', 'stv.seoul.co.kr', 'sbsespn.sbs.co.kr', 'mookas.com', 'land.hankyung.com', 'bizn.donga.com', 'babytree.hani.co.kr', 'autotimes.hankyung.com']\n",
      "[]\n",
      "['app.yonhapnews.co.kr', 'news1.kr', 'www.newsis.com', 'www.ytn.co.kr', 'www.edaily.co.kr', 'news.heraldcorp.com', 'view.asiae.co.kr', 'www.nocutnews.co.kr', 'news.mk.co.kr', 'www.sedaily.com', 'news.sbs.co.kr', 'news.kbs.co.kr', 'www.mt.co.kr', 'mbn.mk.co.kr', 'www.asiatoday.co.kr', 'news.khan.co.kr', 'www.vop.co.kr', 'www.hankyung.com', 'www.ajunews.com', 'www.segye.com', 'www.yonhapnewstv.co.kr', 'www.seoul.co.kr', 'www.fnnews.com', 'news.donga.com', 'news.joins.com', 'www.hani.co.kr', 'news.kmib.co.kr', 'www.ggilbo.com', 'www.hankookilbo.com', 'www.kookje.co.kr', 'www.etoday.co.kr', 'www.ohmynews.com', 'www.polinews.co.kr', 'www.tbs.seoul.kr', 'news20.busan.com', 'www.viva100.com', 'www.newspim.com', 'news.tvchosun.com', 'www.moneyweek.co.kr', 'www.viewsnnews.com', 'www.newscj.com', 'sports.khan.co.kr', 'www.kyeongin.com', 'www.wowtv.co.kr', 'imnews.imbc.com', 'news.naver.com', 'www.mediapen.com', 'www.gukjenews.com', 'www.munhwa.com', 'news.jtbc.co.kr', 'www.kukinews.com', 'www.mbn.co.kr', 'www.joongboo.com', 'www.inews24.com', 'www.breaknews.com', 'www.newdaily.co.kr', 'www.g-enews.com', 'www.enewstoday.co.kr', 'www.anewsa.com', 'news.bbsi.co.kr', 'www.etnews.com', 'www.shinailbo.co.kr', 'www.starseoultv.com', 'news.tf.co.kr', 'daily.hankooki.com', 'www.newstomato.com', 'www.joongdo.co.kr', 'www.kyeonggi.com', 'www.sisafocus.co.kr', 'www.imaeil.com', 'www.dt.co.kr', 'www.obsnews.co.kr', 'www.dailian.co.kr', 'www.yeongnam.com', 'www.ekn.kr', 'news.ichannela.com', 'www.pressian.com', 'ilyo.co.kr', 'www.newsway.co.kr', 'news.mtn.co.kr', 'www.sisaweek.com', 'www.speconomy.com', 'www.m-i.kr', 'www.mediatoday.co.kr', 'www.huffingtonpost.kr', 'www.ilyoseoul.co.kr', 'www.kgnews.co.kr', 'www.metroseoul.co.kr', 'www.joseilbo.com', 'www.weeklytoday.com', 'www.pbc.co.kr', 'www.naeil.com', 'www.hg-times.com', 'sbscnbc.sbs.co.kr', 'www.lawissue.co.kr', 'www.siminilbo.co.kr', 'www.cnbnews.com', 'www.ccdailynews.com', 'www.kns.tv', 'www.daejonilbo.com', 'www.cctoday.co.kr', 'www.kwangju.co.kr', 'www.kado.net', 'biz.chosun.com', 'www.ilyosisa.co.kr', 'www.cstimes.com', 'www.kihoilbo.co.kr', 'tvdaily.asiae.co.kr', 'www.mediaus.co.kr', 'sports.donga.com', 'www.ytnradio.kr', 'www.gwangnam.co.kr', 'www.iusm.co.kr', 'www.koreadaily.com', 'www.jnilbo.com', 'www.businesspost.co.kr', 'www.jjan.kr', 'www.sporbiz.co.kr', 'www.chungnamilbo.com', 'www.sisaon.co.kr', 'www.idaegu.co.kr', 'www.newstown.co.kr', 'www.ksilbo.co.kr', 'www.wikitree.co.kr', 'www.gobalnews.com', 'enter.etoday.co.kr', 'www.womennews.co.kr', 'www.munhwanews.com', 'www.mhj21.com', 'www.kbmaeil.com', 'www.newsen.com', 'www.sportsseoul.com', 'www.inews365.com', 'www.kwnews.co.kr', 'www.idomin.com', 'www.domin.co.kr', 'www.incheonilbo.com', 'stoo.asiae.co.kr', 'www.ihalla.com', 'www.ebn.co.kr', 'www.visualdive.com', 'www.knnews.co.kr', 'www.kyongbuk.co.kr', 'www.xportsnews.com', 'www.jemin.com', 'www.jbnews.com', 'www.idaegu.com', 'news.einfomax.co.kr', 'www.honam.co.kr', 'www.redian.org', 'star.mbn.co.kr', 'www.ujnews.co.kr', 'www.radiokorea.com', 'www.lawtimes.co.kr', 'www.gokorea.kr', 'star.mt.co.kr', 'sports.chosun.com', 'www.newsprime.co.kr', 'facttv.kr', 'www.labortoday.co.kr', 'www.kjdaily.com', 'www.sisunnews.co.kr', 'www.gnnews.co.kr', 'www.goodmorningcc.com', 'www.rpm9.com', 'www.dtnews24.com', 'www.mediawatch.kr', 'www.hidomin.com', 'www.gnmaeil.com', 'www.sisapress.com', 'www.m-economynews.com', 'www.dynews.co.kr', 'www.nspna.com', 'www.sportsq.co.kr', 'www.tongilnews.com', 'www.topstarnews.net', 'www.sjbnews.com', 'www.headlinejeju.co.kr', 'www.voakorea.com', 'news.ebs.co.kr', 'sports.hankooki.com', 'www.jeollailbo.com', 'www.tvreport.co.kr', 'www.gjdream.com', 'www.mydaily.co.kr', 'www.jeonmin.co.kr', 'www.journalist.or.kr', 'biz.heraldcorp.com', 'www.jejuilbo.net', 'www.cnews.co.kr', 'www.sportsworldi.com', 'www.seoulfn.com', 'www.econovill.com', 'www.econotalking.kr', 'sunday.joins.com', 'www.jejunews.com', 'www.dgmbc.com', 'www.tenasia.co.kr', 'isplus.live.joins.com', 'www.jejusori.net', 'www.fntimes.com', 'www.greenpostkorea.co.kr', 'www.koreatimes.com', 'weekly.khan.co.kr', 'h21.hani.co.kr', 'www.daejeontoday.com', 'www.upkorea.net', 'www.sisajeju.com', 'www.osen.co.kr', 'www.christiantoday.co.kr', 'www.ccdn.co.kr', 'www.ksmnews.co.kr', 'pub.chosun.com', 'weeklytrade.co.kr', 'starin.edaily.co.kr', 'www.whitepaper.co.kr', 'news.knn.co.kr', 'www.knn.co.kr', 'news.unn.net', 'tjmbc.co.kr', 'www.siminsori.com', 'www.the-pr.co.kr', 'www.futurekorea.co.kr', 'ikbc.co.kr', 'www.ktv.go.kr', 'star.mk.co.kr', 'star.spotvnews.co.kr', 'koreajoongangdaily.joins.com', 'www.bulkyo21.com', 'www.choicenews.co.kr', 'weekly.donga.com', 'www.bizenter.co.kr', 'www.kjmbc.co.kr', 'www.ddanzi.com', 'www.gndomin.com', 'www.sisain.co.kr', 'www.newshankuk.com', 'www.lec.co.kr', 'joynews.inews24.com', 'www.newscham.net', 'stock.hankyung.com', 'www.tfnews.co.kr', 'www.koreatimes.co.kr', 'www.intn.co.kr', 'premium.mk.co.kr', 'medipana.com', 'www.newsmin.co.kr', 'www.gocj.net', 'www.bithub.co.kr', 'www.docdocdoc.co.kr', 'newstapa.org', 'kor.theasian.asia', 'biz.newdaily.co.kr', 'www.pdjournal.com', 'www.gwnews.org', 'www.ddaily.co.kr', 'www.dailypharm.com', 'www.cpbc.co.kr', 'andongmbc.co.kr', 'www.korea.kr', 'ppss.kr', 'www.stardailynews.co.kr', 'www.naon.go.kr', 'www.jejudomin.co.kr', 'shindonga.donga.com', 'mbnmoney.mbn.co.kr', 'jmagazine.joins.com', 'www.e2news.com', 'www.thebell.co.kr', 'www.bizwatch.co.kr', 'www.tjb.co.kr', 'www.konas.net', 'www.taxtimes.co.kr', 'www.rapportian.com', 'factoll.com', 'chicnews.mk.co.kr', 'www.zdnet.co.kr', 'www.tbc.co.kr', 'www.betanews.net:8080', 'www.medicaltimes.com', 'www.beopbo.com', 'www.dailymedi.com', 'www.thescoop.co.kr', 'h2.khan.co.kr', 'www.smedaily.co.kr', 'www.sisainlive.com', 'www.ilemonde.com', 'www.ibulgyo.com', 'enews24.tving.com', 'www.ikpnews.net', 'www.bzeronews.com', 'www.nextdaily.co.kr', 'weekly.cnbnews.com', 'news.kukinews.com', 'www.hyunbulnews.com', 'www.hkbs.co.kr', 'www.greendaily.co.kr', 'slownews.kr', 'g1tv.co.kr', 'www.dongponews.net', 'www.electimes.com', 'www.acrofan.com', 'kookbang.dema.mil.kr', 'www.nongmin.com', 'www.newsculture.tv', 'www.mygoyang.com', 'www.dhnews.co.kr', 'www.catholictimes.org', 'www.ibabynews.com', 'www.btnnews.tv', 'sbsfune.sbs.co.kr', 'www.finomy.com', 'enews.imbc.com', 'www.veritas-a.com', 'www.suwon.com', 'www.readersnews.com', 'www.kyosu.net', 'www.itnk.co.kr', 'www.dailygame.co.kr', 'betanews.heraldcorp.com:8080', 'www.pckworld.com', 'www.doctorsnews.co.kr', 'starn.hankyung.com', 'news.koreanbar.or.kr', 'www.snmnews.com', 'www.kbanker.co.kr', 'www.ittoday.co.kr', 'www.datanews.co.kr', 'enews24.interest.me', 'www.bosa.co.kr', 'www.newsmaker.or.kr', 'www.monews.co.kr', 'www.kpanews.co.kr', 'www.dailynk.com', 'www.cine21.com', 'nownews.seoul.co.kr', 'en.seoul.co.kr', 'ch.yes24.com', 'www.spotvnews.co.kr', 'www.palnews.co.kr', 'www.koreaherald.com', 'www.ikld.kr', 'www.gimhaenews.co.kr', 'techm.kr', 'bntnews.hankyung.com', 'www.mediafine.co.kr', 'www.engdaily.com', 'www.cmbdj.co.kr', 'mediawatch.kr', 'it.chosun.com', 'edu.donga.com', 'www.yakup.com', 'www.mdtoday.co.kr', 'www.koreaittimes.com', 'www.investchosun.com', 'www.g1tv.co.kr', 'www.dongascience.com', 'www.cctvnews.co.kr', 'www.bloter.net', 'web.newsis.com', 'kizmom.hankyung.com', 'dailymedi.com', '2korea.hani.co.kr', 'www.welfarenews.net', 'www.unityinfo.co.kr', 'www.boannews.com', 'www.ablenews.co.kr', 'platum.kr', 'okfashion.co.kr', 'news.bookdb.co.kr', 'kids.hankooki.com', 'ize.co.kr', 'gamefocus.co.kr', 'economyplus.chosun.com', 'www.ytnscience.co.kr', 'www.thisisgame.com', 'www.rwn.co.kr', 'www.kidd.co.kr', 'www.entermedia.co.kr', 'www.dispatch.co.kr', 'www.datanet.co.kr', 'wstarnews.hankyung.com', 'news.kbiz.or.kr', 'fpn119.co.kr', 'www.outdoornews.co.kr', 'www.mjmedi.com', 'www.ildaro.com', 'www.gasnews.com', 'www.fomos.kr', 'www.consumernews.co.kr', 'www.agrinet.co.kr', 'economychosun.com', 'blog.newstapa.org', 'www.yonhapmidas.com', 'www.todayenergy.kr', 'www.seouland.com', 'www.maniareport.com', 'www.ktnews.com', 'www.kormedi.com', 'www.jobnjoy.com', 'www.hangyo.com', 'www.gamemeca.com', 'www.famtimes.co.kr', 'www.dailygrid.net', 'www.brainmedia.co.kr', 'woman.chosun.com', 'uberin.mk.co.kr', 'sports.mk.co.kr', 'maxim.wowtv.co.kr', 'kr.aving.net', 'hellodd.com', 'www1.president.go.kr', 'www.newsfarm.co.kr', 'www.medical-tribune.co.kr', 'www.ksg.co.kr', 'www.klnews.co.kr', 'www.itworld.co.kr', 'www.itdaily.kr', 'www.inven.co.kr', 'www.insnews.co.kr', 'www.ilovepc.co.kr', 'www.footballjournal.co.kr', 'www.ecomedia.co.kr', 'www.dailyvet.co.kr', 'www.dailysecu.com', 'www.cowalknews.co.kr', 'www.constimes.co.kr', 'www.betanews.net', 'www.besteleven.com', 'www.allurekorea.com', 'www.aflnews.co.kr', 'thestory.chosun.com', 'stv.seoul.co.kr', 'sbsespn.sbs.co.kr', 'mookas.com', 'land.hankyung.com', 'bizn.donga.com', 'babytree.hani.co.kr', 'autotimes.hankyung.com']\n"
     ]
    },
    {
     "ename": "KeyboardInterrupt",
     "evalue": "",
     "output_type": "error",
     "traceback": [
      "\u001b[1;31m---------------------------------------------------------------------------\u001b[0m",
      "\u001b[1;31mKeyboardInterrupt\u001b[0m                         Traceback (most recent call last)",
      "\u001b[1;32m<ipython-input-46-4a05e2a31091>\u001b[0m in \u001b[0;36m<module>\u001b[1;34m()\u001b[0m\n\u001b[0;32m     15\u001b[0m         \u001b[0murls_list2\u001b[0m\u001b[1;33m[\u001b[0m\u001b[1;36m0\u001b[0m\u001b[1;33m]\u001b[0m \u001b[1;33m=\u001b[0m \u001b[0mq\u001b[0m\u001b[1;33m.\u001b[0m\u001b[0msplit\u001b[0m\u001b[1;33m(\u001b[0m\u001b[1;34m\"\\ufeff\"\u001b[0m\u001b[1;33m)\u001b[0m\u001b[1;33m[\u001b[0m\u001b[1;36m1\u001b[0m\u001b[1;33m]\u001b[0m\u001b[1;33m\u001b[0m\u001b[0m\n\u001b[0;32m     16\u001b[0m     \u001b[0mprint\u001b[0m\u001b[1;33m(\u001b[0m\u001b[0murls_list2\u001b[0m\u001b[1;33m)\u001b[0m\u001b[1;33m\u001b[0m\u001b[0m\n\u001b[1;32m---> 17\u001b[1;33m     \u001b[0mwholelst\u001b[0m\u001b[1;33m.\u001b[0m\u001b[0mappend\u001b[0m\u001b[1;33m(\u001b[0m\u001b[0mgogo\u001b[0m\u001b[1;33m(\u001b[0m\u001b[0mq\u001b[0m\u001b[1;33m)\u001b[0m\u001b[1;33m)\u001b[0m\u001b[1;33m\u001b[0m\u001b[0m\n\u001b[0m\u001b[0;32m     18\u001b[0m \u001b[1;33m\u001b[0m\u001b[0m\n\u001b[0;32m     19\u001b[0m \u001b[0mprint\u001b[0m\u001b[1;33m(\u001b[0m\u001b[0mwholelst\u001b[0m\u001b[1;33m)\u001b[0m\u001b[1;33m\u001b[0m\u001b[0m\n",
      "\u001b[1;32m<ipython-input-35-f53a5364f730>\u001b[0m in \u001b[0;36mgogo\u001b[1;34m(website)\u001b[0m\n\u001b[0;32m      7\u001b[0m             \u001b[0marticle_url\u001b[0m \u001b[1;33m=\u001b[0m \u001b[0murllib\u001b[0m\u001b[1;33m.\u001b[0m\u001b[0mrequest\u001b[0m\u001b[1;33m.\u001b[0m\u001b[0murlopen\u001b[0m\u001b[1;33m(\u001b[0m\u001b[0murl\u001b[0m\u001b[1;33m)\u001b[0m\u001b[1;33m.\u001b[0m\u001b[0mread\u001b[0m\u001b[1;33m(\u001b[0m\u001b[1;33m)\u001b[0m\u001b[1;33m\u001b[0m\u001b[0m\n\u001b[0;32m      8\u001b[0m             \u001b[0mcontent\u001b[0m \u001b[1;33m=\u001b[0m \u001b[0mArticle\u001b[0m\u001b[1;33m(\u001b[0m\u001b[0murl\u001b[0m\u001b[1;33m,\u001b[0m \u001b[0mlanguage\u001b[0m\u001b[1;33m=\u001b[0m\u001b[1;34m'ko'\u001b[0m\u001b[1;33m)\u001b[0m\u001b[1;33m\u001b[0m\u001b[0m\n\u001b[1;32m----> 9\u001b[1;33m             \u001b[0mcontent\u001b[0m\u001b[1;33m.\u001b[0m\u001b[0mdownload\u001b[0m\u001b[1;33m(\u001b[0m\u001b[1;33m)\u001b[0m\u001b[1;33m\u001b[0m\u001b[0m\n\u001b[0m\u001b[0;32m     10\u001b[0m             \u001b[0mcontent\u001b[0m\u001b[1;33m.\u001b[0m\u001b[0mparse\u001b[0m\u001b[1;33m(\u001b[0m\u001b[1;33m)\u001b[0m\u001b[1;33m\u001b[0m\u001b[0m\n\u001b[0;32m     11\u001b[0m \u001b[1;33m\u001b[0m\u001b[0m\n",
      "\u001b[1;32mC:\\Users\\user\\Anaconda3\\lib\\site-packages\\newspaper\\article.py\u001b[0m in \u001b[0;36mdownload\u001b[1;34m(self, input_html, title, recursion_counter)\u001b[0m\n\u001b[0;32m    162\u001b[0m         \u001b[1;32mif\u001b[0m \u001b[0minput_html\u001b[0m \u001b[1;32mis\u001b[0m \u001b[1;32mNone\u001b[0m\u001b[1;33m:\u001b[0m\u001b[1;33m\u001b[0m\u001b[0m\n\u001b[0;32m    163\u001b[0m             \u001b[1;32mtry\u001b[0m\u001b[1;33m:\u001b[0m\u001b[1;33m\u001b[0m\u001b[0m\n\u001b[1;32m--> 164\u001b[1;33m                 \u001b[0mhtml\u001b[0m \u001b[1;33m=\u001b[0m \u001b[0mnetwork\u001b[0m\u001b[1;33m.\u001b[0m\u001b[0mget_html_2XX_only\u001b[0m\u001b[1;33m(\u001b[0m\u001b[0mself\u001b[0m\u001b[1;33m.\u001b[0m\u001b[0murl\u001b[0m\u001b[1;33m,\u001b[0m \u001b[0mself\u001b[0m\u001b[1;33m.\u001b[0m\u001b[0mconfig\u001b[0m\u001b[1;33m)\u001b[0m\u001b[1;33m\u001b[0m\u001b[0m\n\u001b[0m\u001b[0;32m    165\u001b[0m             \u001b[1;32mexcept\u001b[0m \u001b[0mrequests\u001b[0m\u001b[1;33m.\u001b[0m\u001b[0mexceptions\u001b[0m\u001b[1;33m.\u001b[0m\u001b[0mRequestException\u001b[0m \u001b[1;32mas\u001b[0m \u001b[0me\u001b[0m\u001b[1;33m:\u001b[0m\u001b[1;33m\u001b[0m\u001b[0m\n\u001b[0;32m    166\u001b[0m                 \u001b[0mself\u001b[0m\u001b[1;33m.\u001b[0m\u001b[0mdownload_state\u001b[0m \u001b[1;33m=\u001b[0m \u001b[0mArticleDownloadState\u001b[0m\u001b[1;33m.\u001b[0m\u001b[0mFAILED_RESPONSE\u001b[0m\u001b[1;33m\u001b[0m\u001b[0m\n",
      "\u001b[1;32mC:\\Users\\user\\Anaconda3\\lib\\site-packages\\newspaper\\network.py\u001b[0m in \u001b[0;36mget_html_2XX_only\u001b[1;34m(url, config, response)\u001b[0m\n\u001b[0;32m     62\u001b[0m     \u001b[1;32mtry\u001b[0m\u001b[1;33m:\u001b[0m\u001b[1;33m\u001b[0m\u001b[0m\n\u001b[0;32m     63\u001b[0m         response = requests.get(\n\u001b[1;32m---> 64\u001b[1;33m             url=url, **get_request_kwargs(timeout, useragent, proxies, headers))\n\u001b[0m\u001b[0;32m     65\u001b[0m     \u001b[1;32mexcept\u001b[0m \u001b[0mrequests\u001b[0m\u001b[1;33m.\u001b[0m\u001b[0mexceptions\u001b[0m\u001b[1;33m.\u001b[0m\u001b[0mRequestException\u001b[0m \u001b[1;32mas\u001b[0m \u001b[0me\u001b[0m\u001b[1;33m:\u001b[0m\u001b[1;33m\u001b[0m\u001b[0m\n\u001b[0;32m     66\u001b[0m         \u001b[0mlog\u001b[0m\u001b[1;33m.\u001b[0m\u001b[0mdebug\u001b[0m\u001b[1;33m(\u001b[0m\u001b[1;34m'get_html_2XX_only() error. %s on URL: %s'\u001b[0m \u001b[1;33m%\u001b[0m \u001b[1;33m(\u001b[0m\u001b[0me\u001b[0m\u001b[1;33m,\u001b[0m \u001b[0murl\u001b[0m\u001b[1;33m)\u001b[0m\u001b[1;33m)\u001b[0m\u001b[1;33m\u001b[0m\u001b[0m\n",
      "\u001b[1;32mC:\\Users\\user\\Anaconda3\\lib\\site-packages\\requests\\api.py\u001b[0m in \u001b[0;36mget\u001b[1;34m(url, params, **kwargs)\u001b[0m\n\u001b[0;32m     70\u001b[0m \u001b[1;33m\u001b[0m\u001b[0m\n\u001b[0;32m     71\u001b[0m     \u001b[0mkwargs\u001b[0m\u001b[1;33m.\u001b[0m\u001b[0msetdefault\u001b[0m\u001b[1;33m(\u001b[0m\u001b[1;34m'allow_redirects'\u001b[0m\u001b[1;33m,\u001b[0m \u001b[1;32mTrue\u001b[0m\u001b[1;33m)\u001b[0m\u001b[1;33m\u001b[0m\u001b[0m\n\u001b[1;32m---> 72\u001b[1;33m     \u001b[1;32mreturn\u001b[0m \u001b[0mrequest\u001b[0m\u001b[1;33m(\u001b[0m\u001b[1;34m'get'\u001b[0m\u001b[1;33m,\u001b[0m \u001b[0murl\u001b[0m\u001b[1;33m,\u001b[0m \u001b[0mparams\u001b[0m\u001b[1;33m=\u001b[0m\u001b[0mparams\u001b[0m\u001b[1;33m,\u001b[0m \u001b[1;33m**\u001b[0m\u001b[0mkwargs\u001b[0m\u001b[1;33m)\u001b[0m\u001b[1;33m\u001b[0m\u001b[0m\n\u001b[0m\u001b[0;32m     73\u001b[0m \u001b[1;33m\u001b[0m\u001b[0m\n\u001b[0;32m     74\u001b[0m \u001b[1;33m\u001b[0m\u001b[0m\n",
      "\u001b[1;32mC:\\Users\\user\\Anaconda3\\lib\\site-packages\\requests\\api.py\u001b[0m in \u001b[0;36mrequest\u001b[1;34m(method, url, **kwargs)\u001b[0m\n\u001b[0;32m     56\u001b[0m     \u001b[1;31m# cases, and look like a memory leak in others.\u001b[0m\u001b[1;33m\u001b[0m\u001b[1;33m\u001b[0m\u001b[0m\n\u001b[0;32m     57\u001b[0m     \u001b[1;32mwith\u001b[0m \u001b[0msessions\u001b[0m\u001b[1;33m.\u001b[0m\u001b[0mSession\u001b[0m\u001b[1;33m(\u001b[0m\u001b[1;33m)\u001b[0m \u001b[1;32mas\u001b[0m \u001b[0msession\u001b[0m\u001b[1;33m:\u001b[0m\u001b[1;33m\u001b[0m\u001b[0m\n\u001b[1;32m---> 58\u001b[1;33m         \u001b[1;32mreturn\u001b[0m \u001b[0msession\u001b[0m\u001b[1;33m.\u001b[0m\u001b[0mrequest\u001b[0m\u001b[1;33m(\u001b[0m\u001b[0mmethod\u001b[0m\u001b[1;33m=\u001b[0m\u001b[0mmethod\u001b[0m\u001b[1;33m,\u001b[0m \u001b[0murl\u001b[0m\u001b[1;33m=\u001b[0m\u001b[0murl\u001b[0m\u001b[1;33m,\u001b[0m \u001b[1;33m**\u001b[0m\u001b[0mkwargs\u001b[0m\u001b[1;33m)\u001b[0m\u001b[1;33m\u001b[0m\u001b[0m\n\u001b[0m\u001b[0;32m     59\u001b[0m \u001b[1;33m\u001b[0m\u001b[0m\n\u001b[0;32m     60\u001b[0m \u001b[1;33m\u001b[0m\u001b[0m\n",
      "\u001b[1;32mC:\\Users\\user\\Anaconda3\\lib\\site-packages\\requests\\sessions.py\u001b[0m in \u001b[0;36mrequest\u001b[1;34m(self, method, url, params, data, headers, cookies, files, auth, timeout, allow_redirects, proxies, hooks, stream, verify, cert, json)\u001b[0m\n\u001b[0;32m    516\u001b[0m         }\n\u001b[0;32m    517\u001b[0m         \u001b[0msend_kwargs\u001b[0m\u001b[1;33m.\u001b[0m\u001b[0mupdate\u001b[0m\u001b[1;33m(\u001b[0m\u001b[0msettings\u001b[0m\u001b[1;33m)\u001b[0m\u001b[1;33m\u001b[0m\u001b[0m\n\u001b[1;32m--> 518\u001b[1;33m         \u001b[0mresp\u001b[0m \u001b[1;33m=\u001b[0m \u001b[0mself\u001b[0m\u001b[1;33m.\u001b[0m\u001b[0msend\u001b[0m\u001b[1;33m(\u001b[0m\u001b[0mprep\u001b[0m\u001b[1;33m,\u001b[0m \u001b[1;33m**\u001b[0m\u001b[0msend_kwargs\u001b[0m\u001b[1;33m)\u001b[0m\u001b[1;33m\u001b[0m\u001b[0m\n\u001b[0m\u001b[0;32m    519\u001b[0m \u001b[1;33m\u001b[0m\u001b[0m\n\u001b[0;32m    520\u001b[0m         \u001b[1;32mreturn\u001b[0m \u001b[0mresp\u001b[0m\u001b[1;33m\u001b[0m\u001b[0m\n",
      "\u001b[1;32mC:\\Users\\user\\Anaconda3\\lib\\site-packages\\requests\\sessions.py\u001b[0m in \u001b[0;36msend\u001b[1;34m(self, request, **kwargs)\u001b[0m\n\u001b[0;32m    670\u001b[0m \u001b[1;33m\u001b[0m\u001b[0m\n\u001b[0;32m    671\u001b[0m         \u001b[1;32mif\u001b[0m \u001b[1;32mnot\u001b[0m \u001b[0mstream\u001b[0m\u001b[1;33m:\u001b[0m\u001b[1;33m\u001b[0m\u001b[0m\n\u001b[1;32m--> 672\u001b[1;33m             \u001b[0mr\u001b[0m\u001b[1;33m.\u001b[0m\u001b[0mcontent\u001b[0m\u001b[1;33m\u001b[0m\u001b[0m\n\u001b[0m\u001b[0;32m    673\u001b[0m \u001b[1;33m\u001b[0m\u001b[0m\n\u001b[0;32m    674\u001b[0m         \u001b[1;32mreturn\u001b[0m \u001b[0mr\u001b[0m\u001b[1;33m\u001b[0m\u001b[0m\n",
      "\u001b[1;32mC:\\Users\\user\\Anaconda3\\lib\\site-packages\\requests\\models.py\u001b[0m in \u001b[0;36mcontent\u001b[1;34m(self)\u001b[0m\n\u001b[0;32m    814\u001b[0m                 \u001b[0mself\u001b[0m\u001b[1;33m.\u001b[0m\u001b[0m_content\u001b[0m \u001b[1;33m=\u001b[0m \u001b[1;32mNone\u001b[0m\u001b[1;33m\u001b[0m\u001b[0m\n\u001b[0;32m    815\u001b[0m             \u001b[1;32melse\u001b[0m\u001b[1;33m:\u001b[0m\u001b[1;33m\u001b[0m\u001b[0m\n\u001b[1;32m--> 816\u001b[1;33m                 \u001b[0mself\u001b[0m\u001b[1;33m.\u001b[0m\u001b[0m_content\u001b[0m \u001b[1;33m=\u001b[0m \u001b[0mbytes\u001b[0m\u001b[1;33m(\u001b[0m\u001b[1;33m)\u001b[0m\u001b[1;33m.\u001b[0m\u001b[0mjoin\u001b[0m\u001b[1;33m(\u001b[0m\u001b[0mself\u001b[0m\u001b[1;33m.\u001b[0m\u001b[0miter_content\u001b[0m\u001b[1;33m(\u001b[0m\u001b[0mCONTENT_CHUNK_SIZE\u001b[0m\u001b[1;33m)\u001b[0m\u001b[1;33m)\u001b[0m \u001b[1;32mor\u001b[0m \u001b[0mbytes\u001b[0m\u001b[1;33m(\u001b[0m\u001b[1;33m)\u001b[0m\u001b[1;33m\u001b[0m\u001b[0m\n\u001b[0m\u001b[0;32m    817\u001b[0m \u001b[1;33m\u001b[0m\u001b[0m\n\u001b[0;32m    818\u001b[0m         \u001b[0mself\u001b[0m\u001b[1;33m.\u001b[0m\u001b[0m_content_consumed\u001b[0m \u001b[1;33m=\u001b[0m \u001b[1;32mTrue\u001b[0m\u001b[1;33m\u001b[0m\u001b[0m\n",
      "\u001b[1;32mC:\\Users\\user\\Anaconda3\\lib\\site-packages\\requests\\models.py\u001b[0m in \u001b[0;36mgenerate\u001b[1;34m()\u001b[0m\n\u001b[0;32m    736\u001b[0m             \u001b[1;32mif\u001b[0m \u001b[0mhasattr\u001b[0m\u001b[1;33m(\u001b[0m\u001b[0mself\u001b[0m\u001b[1;33m.\u001b[0m\u001b[0mraw\u001b[0m\u001b[1;33m,\u001b[0m \u001b[1;34m'stream'\u001b[0m\u001b[1;33m)\u001b[0m\u001b[1;33m:\u001b[0m\u001b[1;33m\u001b[0m\u001b[0m\n\u001b[0;32m    737\u001b[0m                 \u001b[1;32mtry\u001b[0m\u001b[1;33m:\u001b[0m\u001b[1;33m\u001b[0m\u001b[0m\n\u001b[1;32m--> 738\u001b[1;33m                     \u001b[1;32mfor\u001b[0m \u001b[0mchunk\u001b[0m \u001b[1;32min\u001b[0m \u001b[0mself\u001b[0m\u001b[1;33m.\u001b[0m\u001b[0mraw\u001b[0m\u001b[1;33m.\u001b[0m\u001b[0mstream\u001b[0m\u001b[1;33m(\u001b[0m\u001b[0mchunk_size\u001b[0m\u001b[1;33m,\u001b[0m \u001b[0mdecode_content\u001b[0m\u001b[1;33m=\u001b[0m\u001b[1;32mTrue\u001b[0m\u001b[1;33m)\u001b[0m\u001b[1;33m:\u001b[0m\u001b[1;33m\u001b[0m\u001b[0m\n\u001b[0m\u001b[0;32m    739\u001b[0m                         \u001b[1;32myield\u001b[0m \u001b[0mchunk\u001b[0m\u001b[1;33m\u001b[0m\u001b[0m\n\u001b[0;32m    740\u001b[0m                 \u001b[1;32mexcept\u001b[0m \u001b[0mProtocolError\u001b[0m \u001b[1;32mas\u001b[0m \u001b[0me\u001b[0m\u001b[1;33m:\u001b[0m\u001b[1;33m\u001b[0m\u001b[0m\n",
      "\u001b[1;32mC:\\Users\\user\\Anaconda3\\lib\\site-packages\\requests\\packages\\urllib3\\response.py\u001b[0m in \u001b[0;36mstream\u001b[1;34m(self, amt, decode_content)\u001b[0m\n\u001b[0;32m    434\u001b[0m         \u001b[1;32melse\u001b[0m\u001b[1;33m:\u001b[0m\u001b[1;33m\u001b[0m\u001b[0m\n\u001b[0;32m    435\u001b[0m             \u001b[1;32mwhile\u001b[0m \u001b[1;32mnot\u001b[0m \u001b[0mis_fp_closed\u001b[0m\u001b[1;33m(\u001b[0m\u001b[0mself\u001b[0m\u001b[1;33m.\u001b[0m\u001b[0m_fp\u001b[0m\u001b[1;33m)\u001b[0m\u001b[1;33m:\u001b[0m\u001b[1;33m\u001b[0m\u001b[0m\n\u001b[1;32m--> 436\u001b[1;33m                 \u001b[0mdata\u001b[0m \u001b[1;33m=\u001b[0m \u001b[0mself\u001b[0m\u001b[1;33m.\u001b[0m\u001b[0mread\u001b[0m\u001b[1;33m(\u001b[0m\u001b[0mamt\u001b[0m\u001b[1;33m=\u001b[0m\u001b[0mamt\u001b[0m\u001b[1;33m,\u001b[0m \u001b[0mdecode_content\u001b[0m\u001b[1;33m=\u001b[0m\u001b[0mdecode_content\u001b[0m\u001b[1;33m)\u001b[0m\u001b[1;33m\u001b[0m\u001b[0m\n\u001b[0m\u001b[0;32m    437\u001b[0m \u001b[1;33m\u001b[0m\u001b[0m\n\u001b[0;32m    438\u001b[0m                 \u001b[1;32mif\u001b[0m \u001b[0mdata\u001b[0m\u001b[1;33m:\u001b[0m\u001b[1;33m\u001b[0m\u001b[0m\n",
      "\u001b[1;32mC:\\Users\\user\\Anaconda3\\lib\\site-packages\\requests\\packages\\urllib3\\response.py\u001b[0m in \u001b[0;36mread\u001b[1;34m(self, amt, decode_content, cache_content)\u001b[0m\n\u001b[0;32m    382\u001b[0m             \u001b[1;32melse\u001b[0m\u001b[1;33m:\u001b[0m\u001b[1;33m\u001b[0m\u001b[0m\n\u001b[0;32m    383\u001b[0m                 \u001b[0mcache_content\u001b[0m \u001b[1;33m=\u001b[0m \u001b[1;32mFalse\u001b[0m\u001b[1;33m\u001b[0m\u001b[0m\n\u001b[1;32m--> 384\u001b[1;33m                 \u001b[0mdata\u001b[0m \u001b[1;33m=\u001b[0m \u001b[0mself\u001b[0m\u001b[1;33m.\u001b[0m\u001b[0m_fp\u001b[0m\u001b[1;33m.\u001b[0m\u001b[0mread\u001b[0m\u001b[1;33m(\u001b[0m\u001b[0mamt\u001b[0m\u001b[1;33m)\u001b[0m\u001b[1;33m\u001b[0m\u001b[0m\n\u001b[0m\u001b[0;32m    385\u001b[0m                 \u001b[1;32mif\u001b[0m \u001b[0mamt\u001b[0m \u001b[1;33m!=\u001b[0m \u001b[1;36m0\u001b[0m \u001b[1;32mand\u001b[0m \u001b[1;32mnot\u001b[0m \u001b[0mdata\u001b[0m\u001b[1;33m:\u001b[0m  \u001b[1;31m# Platform-specific: Buggy versions of Python.\u001b[0m\u001b[1;33m\u001b[0m\u001b[0m\n\u001b[0;32m    386\u001b[0m                     \u001b[1;31m# Close the connection when no data is returned\u001b[0m\u001b[1;33m\u001b[0m\u001b[1;33m\u001b[0m\u001b[0m\n",
      "\u001b[1;32mC:\\Users\\user\\Anaconda3\\lib\\http\\client.py\u001b[0m in \u001b[0;36mread\u001b[1;34m(self, amt)\u001b[0m\n\u001b[0;32m    447\u001b[0m             \u001b[1;31m# Amount is given, implement using readinto\u001b[0m\u001b[1;33m\u001b[0m\u001b[1;33m\u001b[0m\u001b[0m\n\u001b[0;32m    448\u001b[0m             \u001b[0mb\u001b[0m \u001b[1;33m=\u001b[0m \u001b[0mbytearray\u001b[0m\u001b[1;33m(\u001b[0m\u001b[0mamt\u001b[0m\u001b[1;33m)\u001b[0m\u001b[1;33m\u001b[0m\u001b[0m\n\u001b[1;32m--> 449\u001b[1;33m             \u001b[0mn\u001b[0m \u001b[1;33m=\u001b[0m \u001b[0mself\u001b[0m\u001b[1;33m.\u001b[0m\u001b[0mreadinto\u001b[0m\u001b[1;33m(\u001b[0m\u001b[0mb\u001b[0m\u001b[1;33m)\u001b[0m\u001b[1;33m\u001b[0m\u001b[0m\n\u001b[0m\u001b[0;32m    450\u001b[0m             \u001b[1;32mreturn\u001b[0m \u001b[0mmemoryview\u001b[0m\u001b[1;33m(\u001b[0m\u001b[0mb\u001b[0m\u001b[1;33m)\u001b[0m\u001b[1;33m[\u001b[0m\u001b[1;33m:\u001b[0m\u001b[0mn\u001b[0m\u001b[1;33m]\u001b[0m\u001b[1;33m.\u001b[0m\u001b[0mtobytes\u001b[0m\u001b[1;33m(\u001b[0m\u001b[1;33m)\u001b[0m\u001b[1;33m\u001b[0m\u001b[0m\n\u001b[0;32m    451\u001b[0m         \u001b[1;32melse\u001b[0m\u001b[1;33m:\u001b[0m\u001b[1;33m\u001b[0m\u001b[0m\n",
      "\u001b[1;32mC:\\Users\\user\\Anaconda3\\lib\\http\\client.py\u001b[0m in \u001b[0;36mreadinto\u001b[1;34m(self, b)\u001b[0m\n\u001b[0;32m    491\u001b[0m         \u001b[1;31m# connection, and the user is reading more bytes than will be provided\u001b[0m\u001b[1;33m\u001b[0m\u001b[1;33m\u001b[0m\u001b[0m\n\u001b[0;32m    492\u001b[0m         \u001b[1;31m# (for example, reading in 1k chunks)\u001b[0m\u001b[1;33m\u001b[0m\u001b[1;33m\u001b[0m\u001b[0m\n\u001b[1;32m--> 493\u001b[1;33m         \u001b[0mn\u001b[0m \u001b[1;33m=\u001b[0m \u001b[0mself\u001b[0m\u001b[1;33m.\u001b[0m\u001b[0mfp\u001b[0m\u001b[1;33m.\u001b[0m\u001b[0mreadinto\u001b[0m\u001b[1;33m(\u001b[0m\u001b[0mb\u001b[0m\u001b[1;33m)\u001b[0m\u001b[1;33m\u001b[0m\u001b[0m\n\u001b[0m\u001b[0;32m    494\u001b[0m         \u001b[1;32mif\u001b[0m \u001b[1;32mnot\u001b[0m \u001b[0mn\u001b[0m \u001b[1;32mand\u001b[0m \u001b[0mb\u001b[0m\u001b[1;33m:\u001b[0m\u001b[1;33m\u001b[0m\u001b[0m\n\u001b[0;32m    495\u001b[0m             \u001b[1;31m# Ideally, we would raise IncompleteRead if the content-length\u001b[0m\u001b[1;33m\u001b[0m\u001b[1;33m\u001b[0m\u001b[0m\n",
      "\u001b[1;32mC:\\Users\\user\\Anaconda3\\lib\\socket.py\u001b[0m in \u001b[0;36mreadinto\u001b[1;34m(self, b)\u001b[0m\n\u001b[0;32m    584\u001b[0m         \u001b[1;32mwhile\u001b[0m \u001b[1;32mTrue\u001b[0m\u001b[1;33m:\u001b[0m\u001b[1;33m\u001b[0m\u001b[0m\n\u001b[0;32m    585\u001b[0m             \u001b[1;32mtry\u001b[0m\u001b[1;33m:\u001b[0m\u001b[1;33m\u001b[0m\u001b[0m\n\u001b[1;32m--> 586\u001b[1;33m                 \u001b[1;32mreturn\u001b[0m \u001b[0mself\u001b[0m\u001b[1;33m.\u001b[0m\u001b[0m_sock\u001b[0m\u001b[1;33m.\u001b[0m\u001b[0mrecv_into\u001b[0m\u001b[1;33m(\u001b[0m\u001b[0mb\u001b[0m\u001b[1;33m)\u001b[0m\u001b[1;33m\u001b[0m\u001b[0m\n\u001b[0m\u001b[0;32m    587\u001b[0m             \u001b[1;32mexcept\u001b[0m \u001b[0mtimeout\u001b[0m\u001b[1;33m:\u001b[0m\u001b[1;33m\u001b[0m\u001b[0m\n\u001b[0;32m    588\u001b[0m                 \u001b[0mself\u001b[0m\u001b[1;33m.\u001b[0m\u001b[0m_timeout_occurred\u001b[0m \u001b[1;33m=\u001b[0m \u001b[1;32mTrue\u001b[0m\u001b[1;33m\u001b[0m\u001b[0m\n",
      "\u001b[1;31mKeyboardInterrupt\u001b[0m: "
     ]
    }
   ],
   "source": [
    "stat_path = \"stats.csv\"\n",
    "\n",
    "ff = codecs.open(stat_path,\"r\",\"UTF-8\")\n",
    "url_lists_with_newline2 = ff.readlines()\n",
    "\n",
    "urls_list2 = []\n",
    "\n",
    "wholelst = []\n",
    "\n",
    "for url_element_with_newline2 in url_lists_with_newline2:\n",
    "    urls_list2.append(url_element_with_newline2.strip())\n",
    "\n",
    "for q in urls_list2:\n",
    "    if \"\\ufeff\" in q:\n",
    "        urls_list2[0] = q.split(\"\\ufeff\")[1]\n",
    "    print(urls_list2)\n",
    "    wholelst.append(gogo(q))\n",
    "\n",
    "print(wholelst)"
   ]
  },
  {
   "cell_type": "code",
   "execution_count": 25,
   "metadata": {
    "collapsed": true
   },
   "outputs": [],
   "source": [
    "path = \"wowtv.tsv\"\n",
    "\n",
    "f = codecs.open(path,\"w\",\"UTF-8\")\n",
    "for row in rows:\n",
    "    f.write(\"\".join(str(s)+\"\\t\" for s in row)+ \"\\n\")"
   ]
  },
  {
   "cell_type": "code",
   "execution_count": 26,
   "metadata": {
    "collapsed": true
   },
   "outputs": [],
   "source": [
    "f.close()"
   ]
  }
 ],
 "metadata": {
  "kernelspec": {
   "display_name": "Python 3",
   "language": "python",
   "name": "python3"
  },
  "language_info": {
   "codemirror_mode": {
    "name": "ipython",
    "version": 3
   },
   "file_extension": ".py",
   "mimetype": "text/x-python",
   "name": "python",
   "nbconvert_exporter": "python",
   "pygments_lexer": "ipython3",
   "version": "3.6.1"
  }
 },
 "nbformat": 4,
 "nbformat_minor": 2
}
